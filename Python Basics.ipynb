{
 "cells": [
  {
   "cell_type": "markdown",
   "id": "5d838a79",
   "metadata": {},
   "source": [
    "## Welcome message, use user inputted information to multiply unit with price per unit and provide proof of sale"
   ]
  },
  {
   "cell_type": "code",
   "execution_count": 1,
   "id": "76504ca7",
   "metadata": {},
   "outputs": [
    {
     "name": "stdout",
     "output_type": "stream",
     "text": [
      "Welcome Customer!\n",
      "What is the name of the company you're shopping for today?\n",
      "Kim's Company\n",
      "How many feet of fiber optic cable will you be installing?\n",
      "34\n",
      "\n",
      "Thank you for shopping for the needs of  Kim's Company  with us!\n",
      "Your total for 34 feet at $.87 per foot will be $ 29.58\n"
     ]
    }
   ],
   "source": [
    "#Welcome message\n",
    "print (\"Welcome Customer!\")\n",
    "#Retrieving company name from user\n",
    "corp = input(\"What is the name of the company you're shopping for today?\\n\")\n",
    "#Retrieving number of feet to be installed\n",
    "Amt = input(\"How many feet of fiber optic cable will you be installing?\\n\")\n",
    "#taking into account if a negative number or 0 is entered by the user, the corrected input will be the new number of feet\n",
    "if float(Amt)<= 0:\n",
    "    Amt = input(\"Please enter a number greater than zero\\n\")\n",
    "#Calculating total cost\n",
    "Tot = float(Amt) * .87\n",
    "#Print receipt\n",
    "print (\"\\nThank you for shopping for the needs of \",str(corp),\" with us!\")\n",
    "\n",
    "print (\"Your total for\",(Amt),\"feet at $.87 per foot will be $\",(Tot))\n"
   ]
  },
  {
   "cell_type": "markdown",
   "id": "7223fe07",
   "metadata": {},
   "source": [
    "## Display Welcome message, have user input company name and number of feet to install, calculate cost of cable based on amount given by user, provide cost details with company name"
   ]
  },
  {
   "cell_type": "code",
   "execution_count": 2,
   "id": "8a1b4319",
   "metadata": {},
   "outputs": [
    {
     "name": "stdout",
     "output_type": "stream",
     "text": [
      "Welcome Customer!\n",
      "What is the name of the company you're shopping for today?\n",
      "Kim's Company\n",
      "How many feet of fiber optic cable will you be installing?\n",
      "25\n",
      "\n",
      "Thank you for shopping for the needs of  Kim's Company  with us!\n",
      "Your total for 25.0 feet at $ 0.87  per foot will be $ 21.75\n"
     ]
    }
   ],
   "source": [
    "#Welcome message\n",
    "print (\"Welcome Customer!\")\n",
    "#Retrieving company name from user\n",
    "corp = input(\"What is the name of the company you're shopping for today?\\n\")\n",
    "#Retrieving number of feet to be installed\n",
    "Amt = float(input(\"How many feet of fiber optic cable will you be installing?\\n\"))\n",
    "cost = .87\n",
    "#conditional statements that determine the cost of the cable based on user input\n",
    "#if they order less than 100 feet, the cost is $.87\n",
    "if Amt < 100:\n",
    "    cost = float(.87)\n",
    "#if they order 100 feet or more, but less than 250, the cost is $.80\n",
    "if Amt >= 100:\n",
    "    if Amt < 250:\n",
    "        cost = float(.80)\n",
    "#if they order 250 or more, but less than 500, the cost is $.70\n",
    "if Amt >= 250:\n",
    "    if Amt < 500:\n",
    "        cost = float(.70)\n",
    "#if they order more than 500 feet, the cost is $.50\n",
    "if Amt >= 500:\n",
    "    cost = float(.50)\n",
    "#Anything else will be a negative number and will be invalid\n",
    "Tot = Amt * cost\n",
    "#Print receipt\n",
    "print (\"\\nThank you for shopping for the needs of \",str(corp),\" with us!\")\n",
    "\n",
    "print (\"Your total for\",(Amt),\"feet at $\",(cost),\" per foot will be $\",(Tot))\n"
   ]
  },
  {
   "cell_type": "markdown",
   "id": "aa9e42a3",
   "metadata": {},
   "source": [
    "## Calculate cost of cable based on amount given by user by using a defined function provide cost details with company name\n"
   ]
  },
  {
   "cell_type": "code",
   "execution_count": 3,
   "id": "ff6eb8d8",
   "metadata": {},
   "outputs": [
    {
     "name": "stdout",
     "output_type": "stream",
     "text": [
      "Welcome Customer!\n",
      "What is the name of the company you're shopping for today?\n",
      "Kim's Company\n",
      "How many feet of fiber optic cable will you be installing?\n",
      "456\n",
      "\n",
      "Thank you for shopping for the needs of  Kim's Company  with us!\n",
      "Your total for 456.0 feet at $ 0.7  per foot will be $ 319.2\n"
     ]
    }
   ],
   "source": [
    "#Welcome message\n",
    "print (\"Welcome Customer!\")\n",
    "#Retrieving company name from user\n",
    "corp = input(\"What is the name of the company you're shopping for today?\\n\")\n",
    "#defining the function \"TotalPrice\" to give the multiplication of the two arguments\n",
    "def TotalPrice (a , b):\n",
    "    return (a * b)\n",
    "#Retrieving number of feet to be installed\n",
    "\n",
    "Amt = float(input(\"How many feet of fiber optic cable will you be installing?\\n\"))\n",
    "cost = .87\n",
    "#conditional statements that determine the cost of the cable based on user input\n",
    "#Anything else will be a negative number and will be invalid\n",
    "if Amt < 0:\n",
    "    print (\"Negative numbers are invalid, please try again.\")\n",
    "    exit()\n",
    "#if they order less than 100 feet, the cost is $.87\n",
    "if Amt < 100:\n",
    "    cost = float(.87)\n",
    "#if they order 100 feet or more, but less than 250, the cost is $.80\n",
    "if Amt >= 100:\n",
    "    if Amt < 250:\n",
    "        cost = float(.80)\n",
    "#if they order 250 or more, but less than 500, the cost is $.70\n",
    "if Amt >= 250:\n",
    "    if Amt < 500:\n",
    "        cost = float(.70)\n",
    "#if they order more than 500 feet, the cost is $.50\n",
    "if Amt >= 500:\n",
    "    cost = float(.50)\n",
    "\n",
    "#Print receipt\n",
    "print (\"\\nThank you for shopping for the needs of \",str(corp),\" with us!\")\n",
    "\n",
    "print (\"Your total for\",(Amt),\"feet at $\",(cost),\" per foot will be $\",(TotalPrice(Amt,cost)))\n"
   ]
  },
  {
   "cell_type": "markdown",
   "id": "c459661e",
   "metadata": {},
   "source": [
    "## Calculator project that lets the user add, subtract, multiply, divide, or find the average of, depending on what they choose. Includes a loop to keep asking the user until they are finished."
   ]
  },
  {
   "cell_type": "code",
   "execution_count": 4,
   "id": "8d596036",
   "metadata": {},
   "outputs": [
    {
     "name": "stdout",
     "output_type": "stream",
     "text": [
      "\n",
      "What calculation would you like to perform? Choose from the following:\n",
      "+ for addition\n",
      "- for subtraction\n",
      "* for multiplication\n",
      "/ for division\n",
      "Avg for an average\n",
      "If no calculations to be done, please print done\n",
      "*\n",
      "Enter the first number: 3\n",
      "Enter the second number: 74\n",
      "The answer is  222.0\n",
      "\n",
      "What calculation would you like to perform? Choose from the following:\n",
      "+ for addition\n",
      "- for subtraction\n",
      "* for multiplication\n",
      "/ for division\n",
      "Avg for an average\n",
      "If no calculations to be done, please print done\n",
      "done\n",
      "Done!\n"
     ]
    }
   ],
   "source": [
    "#Defining function performCalculation; user chooses one parameter in the loop: - \"+, -, *, /\"; ask the user for two numbers, perform whatever\n",
    "#calculation is in the parameter, then print the calculated value\n",
    "def performCalculation(calc):\n",
    "#Ask the user for two numbers to use in the calculation\n",
    "        y = float(input('Enter the first number: '))\n",
    "        z = float(input('Enter the second number: '))\n",
    "#The operation is executed depending on what the user has chosen in the main while loop\n",
    "        if calc == '+':\n",
    "            ans = y + z\n",
    "        elif calc == '-':\n",
    "            ans = y + z\n",
    "        elif calc == '*':\n",
    "            ans = y*z\n",
    "        else:\n",
    "            ans = y/z\n",
    "#The answer is printed\n",
    "        return print('The answer is ',float(ans))\n",
    "\n",
    "#Defining function calculateAverage; asks how many numbers, use the number to run the program within a for loop\n",
    "#to calculate TOTAL and AVERAGE, then print the average\n",
    "def calculateAverage():\n",
    "    #Ask the user how many numbers they'll be inputting\n",
    "    times = int(input('How many numbers would you like to see the average of?\\n'))\n",
    "    #Ask the user for the actual numbers to be averaged (input is not taken here)\n",
    "    print ('Enter the numbers you would like the average of\\n')\n",
    "    #start off with the sum and count of the numbers being 0\n",
    "    sumof = 0\n",
    "    count = 0\n",
    "    #while loop to take in the amount of numbers the user provides and adds them up\n",
    "    while times > count:\n",
    "        numbers = float(input(''))\n",
    "        sumof = sumof + numbers\n",
    "        count = count + 1\n",
    "    #prints the sum of all the numbers\n",
    "    print ('The total sum of these numbers is ',float(sumof))\n",
    "    #prints the average\n",
    "    avgcalc = float(sumof)/times\n",
    "    print (\"The average of these numbers is \",float(avgcalc))\n",
    "\n",
    "#while loop that takes user input until they say \"done\". If they do not enter one of the choices, the\n",
    "#program will tell them to try again and will give them the same options as before\n",
    "while True:\n",
    "    calc = input(\"\\nWhat calculation would you like to perform? Choose from the following:\\n+ for addition\\n\"\n",
    "                 \"- for subtraction\\n* for multiplication\\n/ for division\\nAvg for an average\\n\"\n",
    "                 \"If no calculations to be done, please print done\\n\")\n",
    "#Only four options for the Calculator function\n",
    "    if calc in ['+','-','*','/']:\n",
    "        performCalculation(calc)\n",
    "        continue\n",
    "#Only Avg will call the Average function\n",
    "    elif calc == 'Avg':\n",
    "        calculateAverage()\n",
    "        continue\n",
    "#If the user is done, they'll\n",
    "    elif calc == 'done':\n",
    "        break\n",
    "    else:\n",
    "        print('This is not one of the options, please try again.')\n",
    "        continue\n",
    "print (\"Done!\")"
   ]
  },
  {
   "cell_type": "markdown",
   "id": "fa8f500c",
   "metadata": {},
   "source": [
    "## Takes user inputted temperatures and adds them to an empty list, from which the largest and smallest temperatures are given as well as the number of temperatures"
   ]
  },
  {
   "cell_type": "code",
   "execution_count": 7,
   "id": "22ed14c3",
   "metadata": {},
   "outputs": [
    {
     "name": "stdout",
     "output_type": "stream",
     "text": [
      "Please enter the temperatures in your list, pressing \"enter\" after each one. Enter \"done\" when you are finished.\n",
      "\n",
      "34\n",
      "67\n",
      "23\n",
      "done\n",
      "You have entered  3  temperatures. \n",
      "The largest temperature is  67 .\n",
      "The smallest temperature is  23 .\n"
     ]
    }
   ],
   "source": [
    "#creating empty list\n",
    "temperatures = []\n",
    "#asking user for the temperatures they're using - not in the while loop so that it does not ask every time\n",
    "print ('Please enter the temperatures in your list, pressing \"enter\" after each one. Enter \"done\" when you are finished.\\n')\n",
    "enteredtemps = input()\n",
    "#while loop to take in all entered temperatures; if they enter \"done\", the loop is finished\n",
    "while enteredtemps != 'done':\n",
    "    enteredtemps = int(enteredtemps)\n",
    "    temperatures.append(enteredtemps)\n",
    "    enteredtemps = input()\n",
    "\n",
    "#giving number of temps; have to use commas instead of + otherwise, I get an error because enteredtemps are int not strings\n",
    "print('You have entered ', len(temperatures) , ' temperatures. ')\n",
    "#giving maximum and minimum temps\n",
    "print('The largest temperature is ' , max(temperatures) , '.')\n",
    "print('The smallest temperature is ' , min(temperatures) , '.')"
   ]
  },
  {
   "cell_type": "code",
   "execution_count": null,
   "id": "b82055e8",
   "metadata": {},
   "outputs": [],
   "source": []
  }
 ],
 "metadata": {
  "kernelspec": {
   "display_name": "Python 3 (ipykernel)",
   "language": "python",
   "name": "python3"
  },
  "language_info": {
   "codemirror_mode": {
    "name": "ipython",
    "version": 3
   },
   "file_extension": ".py",
   "mimetype": "text/x-python",
   "name": "python",
   "nbconvert_exporter": "python",
   "pygments_lexer": "ipython3",
   "version": "3.7.7"
  }
 },
 "nbformat": 4,
 "nbformat_minor": 5
}
